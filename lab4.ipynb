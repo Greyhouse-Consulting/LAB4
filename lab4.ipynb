{
 "nbformat": 4,
 "nbformat_minor": 2,
 "metadata": {
  "language_info": {
   "name": "python",
   "codemirror_mode": {
    "name": "ipython",
    "version": 3
   },
   "version": "3.7.4"
  },
  "orig_nbformat": 2,
  "file_extension": ".py",
  "mimetype": "text/x-python",
  "name": "python",
  "npconvert_exporter": "python",
  "pygments_lexer": "ipython3",
  "version": 3,
  "pycharm": {
   "stem_cell": {
    "cell_type": "raw",
    "source": [],
    "metadata": {
     "collapsed": false
    }
   }
  },
  "kernelspec": {
   "name": "python3",
   "language": "python",
   "display_name": "Python 3"
  }
 },
 "cells": [
  {
   "cell_type": "code",
   "execution_count": 1,
   "metadata": {
    "pycharm": {
     "is_executing": false
    }
   },
   "outputs": [],
   "source": [
    "from pyspark.sql import SparkSession\n",
    "from pyspark.sql.functions import *\n",
    "spark = SparkSession.builder.appName(\"theappname\").getOrCreate()\n",
    "df = spark.read.csv('/Code/spark/LAB4/data/20*.csv', mode=\"DROPMALFORMED\", inferSchema=True, header = True)\n",
    "\n",
    "\n",
    "from pyspark.sql.functions import  length, lpad\n",
    "from pyspark.sql.types import IntegerType\n",
    "selection = df\\\n",
    "    .where((df.Diverted == 0) & (df.CancellationCode.isNull()) & (df.TailNum.rlike(\"^([A-Z]|[a-z]|[0-9])\"\n",
    "                                                                                                                  \"+$\")) & ((length(df.DepTime) == 4) | (length(df.DepTime) == 3)) & (length(df.ArrTime) == 4) | (length(df.ArrTime) == 3))\\\n",
    "    .where(df['TailNum'].isNotNull())\\\n",
    "    .withColumn(\"DepTime\", when(length(df.DepTime) == 3, lpad(df['DepTime'], 4,'0')).otherwise(df['DepTime']))\\\n",
    "    .withColumn(\"ArrTime\", when(length(df.ArrTime) == 3, lpad(df['ArrTime'], 4,'0')).otherwise(df['ArrTime']))\\\n",
    "    .sort(asc('Year'), 'Month', 'DayofMonth', 'ArrTime')\\\n",
    "    .withColumn(\"ArrDelay\", df.ArrDelay.cast(IntegerType()))\\\n",
    "    .withColumn(\"DepDelay\", df[\"DepDelay\"].cast(IntegerType()))\\\n",
    "    .withColumn(\"CarrierDelay\", df[\"CarrierDelay\"].cast(IntegerType()))\\\n",
    "    .withColumn(\"WeatherDelay\", df[\"WeatherDelay\"].cast(IntegerType()))\\\n",
    "    .withColumn(\"NASDelay\", df[\"NASDelay\"].cast(IntegerType()))\\\n",
    "    .withColumn(\"SecurityDelay\", df[\"SecurityDelay\"].cast(IntegerType()))\\\n",
    "    .withColumn(\"LateAircraftDelay\", df[\"LateAircraftDelay\"].cast(IntegerType()))\\\n",
    "    .fillna(0, subset=['ArrDelay', 'DepDelay', 'CarrierDelay', 'WeatherDelay', 'NASDelay', 'SecurityDelay', 'LateAircraftDelay' ])"
   ]
  },
  {
   "cell_type": "code",
   "execution_count": 2,
   "outputs": [],
   "source": [
    "from pyspark.sql.functions import lag\n",
    "from pyspark.sql.types import BinaryType\n",
    "from pyspark.sql import Window\n",
    "#w = Window.orderBy(\"Year\", \"Month\", \"DayofMonth\", \"ArrTime\")\n",
    "w = Window.partitionBy (\"Year\", \"Month\", \"DayofMonth\", \"ArrTime\").orderBy(\"Year\", \"Month\", \"DayofMonth\", \"ArrTime\")\n",
    "\n",
    "udf(returnType=BinaryType())\n",
    "IsLate  = lambda x : x[\"ArrDelay\"] > 15\n",
    "\n",
    "base = selection \\\n",
    "    .withColumn(\"NbrOfPreviousLateFlights\",(lag(selection['ArrDelay'], 1,0).over(w)  > 15 if 1 else 0).cast(IntegerType()) + (lag(selection['ArrDelay'], 2,0).over(w)  > 15 if 1 else 0).cast(IntegerType()) + (lag(selection['ArrDelay'], 3,0).over(w)  > 15 if 1 else 0).cast(IntegerType()))\\\n",
    "    .withColumn(\"IsLate\", (IsLate(selection)))"
   ],
   "metadata": {
    "collapsed": false,
    "pycharm": {
     "name": "#%%\n",
     "is_executing": false
    }
   }
  },
  {
   "cell_type": "code",
   "execution_count": 53,
   "outputs": [
    {
     "name": "stdout",
     "text": [
      "+----+-----+----------+---------+-------+----------+-------+----------+-------------+---------+-------+-----------------+--------------+-------+--------+--------+------+----+--------+------+-------+---------+----------------+--------+------------+------------+--------+-------------+-----------------+\n",
      "|Year|Month|DayofMonth|DayOfWeek|DepTime|CRSDepTime|ArrTime|CRSArrTime|UniqueCarrier|FlightNum|TailNum|ActualElapsedTime|CRSElapsedTime|AirTime|ArrDelay|DepDelay|Origin|Dest|Distance|TaxiIn|TaxiOut|Cancelled|CancellationCode|Diverted|CarrierDelay|WeatherDelay|NASDelay|SecurityDelay|LateAircraftDelay|\n",
      "+----+-----+----------+---------+-------+----------+-------+----------+-------------+---------+-------+-----------------+--------------+-------+--------+--------+------+----+--------+------+-------+---------+----------------+--------+------------+------------+--------+-------------+-----------------+\n",
      "+----+-----+----------+---------+-------+----------+-------+----------+-------------+---------+-------+-----------------+--------------+-------+--------+--------+------+----+--------+------+-------+---------+----------------+--------+------------+------------+--------+-------------+-----------------+\n",
      "\n"
     ],
     "output_type": "stream"
    }
   ],
   "source": [
    "selection.filter(selection['TailNum'].isNull()).show()"
   ],
   "metadata": {
    "collapsed": false,
    "pycharm": {
     "name": "#%%\n",
     "is_executing": false
    }
   }
  },
  {
   "cell_type": "code",
   "execution_count": 10,
   "outputs": [],
   "source": [
    "spark.catalog.clearCache()"
   ],
   "metadata": {
    "collapsed": false,
    "pycharm": {
     "name": "#%%\n",
     "is_executing": false
    }
   }
  },
  {
   "cell_type": "code",
   "execution_count": 3,
   "outputs": [],
   "source": [
    "superBasePanda = base.toPandas()\n",
    "from pandas import notnull, isnull\n",
    "basePanda = superBasePanda.where(superBasePanda['TailNum'].notnull())"
   ],
   "metadata": {
    "collapsed": false,
    "pycharm": {
     "name": "#%%\n",
     "is_executing": false
    }
   }
  },
  {
   "cell_type": "code",
   "execution_count": 62,
   "outputs": [
    {
     "data": {
      "text/plain": "Year                 0\nMonth                0\nDayofMonth           0\nDayOfWeek            0\nDepTime              0\nCRSDepTime           0\nArrTime              0\nCRSArrTime           0\nUniqueCarrier        0\nFlightNum            0\nTailNum              0\nActualElapsedTime    0\nCRSElapsedTime       0\nAirTime              0\nArrDelay             0\nDepDelay             0\nOrigin               0\nDest                 0\nDistance             0\nTaxiIn               0\nTaxiOut              0\nCancelled            0\nCancellationCode     0\nDiverted             0\nCarrierDelay         0\nWeatherDelay         0\nNASDelay             0\nSecurityDelay        0\nLateAircraftDelay    0\ndtype: int64"
     },
     "metadata": {},
     "output_type": "execute_result",
     "execution_count": 62
    }
   ],
   "source": [
    "basePanda.where(basePanda['TailNum'].isnull()).count()"
   ],
   "metadata": {
    "collapsed": false,
    "pycharm": {
     "name": "#%%\n",
     "is_executing": false
    }
   }
  },
  {
   "cell_type": "code",
   "execution_count": null,
   "outputs": [],
   "source": [
    "basePanda.head()"
   ],
   "metadata": {
    "collapsed": false,
    "pycharm": {
     "name": "#%%\n",
     "is_executing": true
    }
   }
  },
  {
   "cell_type": "code",
   "execution_count": 8,
   "outputs": [
    {
     "name": "stdout",
     "text": [
      "<class 'pandas.core.frame.DataFrame'>\n",
      "RangeIndex: 13939481 entries, 0 to 13939480\n",
      "Data columns (total 31 columns):\n",
      "Year                        int32\n",
      "Month                       int32\n",
      "DayofMonth                  int32\n",
      "DayOfWeek                   int32\n",
      "DepTime                     object\n",
      "CRSDepTime                  int32\n",
      "ArrTime                     object\n",
      "CRSArrTime                  int32\n",
      "FlightNum                   int32\n",
      "ActualElapsedTime           object\n",
      "CRSElapsedTime              object\n",
      "AirTime                     object\n",
      "ArrDelay                    int32\n",
      "DepDelay                    int32\n",
      "Distance                    int32\n",
      "TaxiIn                      object\n",
      "TaxiOut                     object\n",
      "Cancelled                   int32\n",
      "CancellationCode            object\n",
      "Diverted                    int32\n",
      "CarrierDelay                int32\n",
      "WeatherDelay                int32\n",
      "NASDelay                    int32\n",
      "SecurityDelay               int32\n",
      "LateAircraftDelay           int32\n",
      "NbrOfPreviousLateFlights    int32\n",
      "IsLate                      bool\n",
      "Origin_code                 int32\n",
      "Dest_code                   int32\n",
      "UniqueCarrier_code          int32\n",
      "TailNum_code                int32\n",
      "dtypes: bool(1), int32(22), object(8)\n",
      "memory usage: 2.0+ GB\n"
     ],
     "output_type": "stream"
    }
   ],
   "source": [
    "basePanda.info()"
   ],
   "metadata": {
    "collapsed": false,
    "pycharm": {
     "name": "#%%\n",
     "is_executing": false
    }
   }
  },
  {
   "cell_type": "code",
   "execution_count": 4,
   "outputs": [
    {
     "name": "stdout",
     "text": [
      "<class 'pandas.core.frame.DataFrame'>\n",
      "Int64Index: 6 entries, 0 to 5\n",
      "Data columns (total 31 columns):\n",
      "Year                        6 non-null int32\n",
      "Month                       6 non-null int32\n",
      "DayofMonth                  6 non-null int32\n",
      "DayOfWeek                   6 non-null int32\n",
      "DepTime                     6 non-null object\n",
      "CRSDepTime                  6 non-null int32\n",
      "ArrTime                     6 non-null object\n",
      "CRSArrTime                  6 non-null int32\n",
      "UniqueCarrier               6 non-null object\n",
      "FlightNum                   6 non-null int32\n",
      "TailNum                     6 non-null object\n",
      "ActualElapsedTime           6 non-null object\n",
      "CRSElapsedTime              6 non-null object\n",
      "AirTime                     6 non-null object\n",
      "ArrDelay                    6 non-null int32\n",
      "DepDelay                    6 non-null int32\n",
      "Origin                      6 non-null object\n",
      "Dest                        6 non-null object\n",
      "Distance                    6 non-null int32\n",
      "TaxiIn                      6 non-null object\n",
      "TaxiOut                     6 non-null object\n",
      "Cancelled                   6 non-null int32\n",
      "CancellationCode            0 non-null object\n",
      "Diverted                    6 non-null int32\n",
      "CarrierDelay                6 non-null int32\n",
      "WeatherDelay                6 non-null int32\n",
      "NASDelay                    6 non-null int32\n",
      "SecurityDelay               6 non-null int32\n",
      "LateAircraftDelay           6 non-null int32\n",
      "NbrOfPreviousLateFlights    6 non-null int32\n",
      "IsLate                      6 non-null bool\n",
      "dtypes: bool(1), int32(18), object(12)\n",
      "memory usage: 1.0+ KB\n"
     ],
     "output_type": "stream"
    },
    {
     "data": {
      "text/plain": "   Year  Month  DayofMonth  DayOfWeek DepTime  CRSDepTime ArrTime  CRSArrTime  \\\n0  2007      1           1          1    2108        2054    0100          44   \n1  2007      1           1          1    2322        2138    0100        2316   \n2  2007      1           1          1    2118        2030    0100        2335   \n3  2007      1           1          1    2222        2130    0100        2330   \n4  2007      1           1          1    2129        2040    0101          20   \n\n  UniqueCarrier  FlightNum  ... Cancelled CancellationCode Diverted  \\\n0            XE       3230  ...         0             None        0   \n1            NW       1062  ...         0             None        0   \n2            AA        185  ...         0             None        0   \n3            B6       1087  ...         0             None        0   \n4            AA        624  ...         0             None        0   \n\n  CarrierDelay  WeatherDelay  NASDelay SecurityDelay LateAircraftDelay  \\\n0           14             0         2             0                 0   \n1           72             0         0             0                32   \n2           31             0        37             0                17   \n3            0             0        44             0                46   \n4           29             0         0             0                12   \n\n   NbrOfPreviousLateFlights IsLate  \n0                         0   True  \n1                         1   True  \n2                         2   True  \n3                         3   True  \n4                         0   True  \n\n[5 rows x 31 columns]",
      "text/html": "<div>\n<style scoped>\n    .dataframe tbody tr th:only-of-type {\n        vertical-align: middle;\n    }\n\n    .dataframe tbody tr th {\n        vertical-align: top;\n    }\n\n    .dataframe thead th {\n        text-align: right;\n    }\n</style>\n<table border=\"1\" class=\"dataframe\">\n  <thead>\n    <tr style=\"text-align: right;\">\n      <th></th>\n      <th>Year</th>\n      <th>Month</th>\n      <th>DayofMonth</th>\n      <th>DayOfWeek</th>\n      <th>DepTime</th>\n      <th>CRSDepTime</th>\n      <th>ArrTime</th>\n      <th>CRSArrTime</th>\n      <th>UniqueCarrier</th>\n      <th>FlightNum</th>\n      <th>...</th>\n      <th>Cancelled</th>\n      <th>CancellationCode</th>\n      <th>Diverted</th>\n      <th>CarrierDelay</th>\n      <th>WeatherDelay</th>\n      <th>NASDelay</th>\n      <th>SecurityDelay</th>\n      <th>LateAircraftDelay</th>\n      <th>NbrOfPreviousLateFlights</th>\n      <th>IsLate</th>\n    </tr>\n  </thead>\n  <tbody>\n    <tr>\n      <th>0</th>\n      <td>2007</td>\n      <td>1</td>\n      <td>1</td>\n      <td>1</td>\n      <td>2108</td>\n      <td>2054</td>\n      <td>0100</td>\n      <td>44</td>\n      <td>XE</td>\n      <td>3230</td>\n      <td>...</td>\n      <td>0</td>\n      <td>None</td>\n      <td>0</td>\n      <td>14</td>\n      <td>0</td>\n      <td>2</td>\n      <td>0</td>\n      <td>0</td>\n      <td>0</td>\n      <td>True</td>\n    </tr>\n    <tr>\n      <th>1</th>\n      <td>2007</td>\n      <td>1</td>\n      <td>1</td>\n      <td>1</td>\n      <td>2322</td>\n      <td>2138</td>\n      <td>0100</td>\n      <td>2316</td>\n      <td>NW</td>\n      <td>1062</td>\n      <td>...</td>\n      <td>0</td>\n      <td>None</td>\n      <td>0</td>\n      <td>72</td>\n      <td>0</td>\n      <td>0</td>\n      <td>0</td>\n      <td>32</td>\n      <td>1</td>\n      <td>True</td>\n    </tr>\n    <tr>\n      <th>2</th>\n      <td>2007</td>\n      <td>1</td>\n      <td>1</td>\n      <td>1</td>\n      <td>2118</td>\n      <td>2030</td>\n      <td>0100</td>\n      <td>2335</td>\n      <td>AA</td>\n      <td>185</td>\n      <td>...</td>\n      <td>0</td>\n      <td>None</td>\n      <td>0</td>\n      <td>31</td>\n      <td>0</td>\n      <td>37</td>\n      <td>0</td>\n      <td>17</td>\n      <td>2</td>\n      <td>True</td>\n    </tr>\n    <tr>\n      <th>3</th>\n      <td>2007</td>\n      <td>1</td>\n      <td>1</td>\n      <td>1</td>\n      <td>2222</td>\n      <td>2130</td>\n      <td>0100</td>\n      <td>2330</td>\n      <td>B6</td>\n      <td>1087</td>\n      <td>...</td>\n      <td>0</td>\n      <td>None</td>\n      <td>0</td>\n      <td>0</td>\n      <td>0</td>\n      <td>44</td>\n      <td>0</td>\n      <td>46</td>\n      <td>3</td>\n      <td>True</td>\n    </tr>\n    <tr>\n      <th>4</th>\n      <td>2007</td>\n      <td>1</td>\n      <td>1</td>\n      <td>1</td>\n      <td>2129</td>\n      <td>2040</td>\n      <td>0101</td>\n      <td>20</td>\n      <td>AA</td>\n      <td>624</td>\n      <td>...</td>\n      <td>0</td>\n      <td>None</td>\n      <td>0</td>\n      <td>29</td>\n      <td>0</td>\n      <td>0</td>\n      <td>0</td>\n      <td>12</td>\n      <td>0</td>\n      <td>True</td>\n    </tr>\n  </tbody>\n</table>\n<p>5 rows × 31 columns</p>\n</div>"
     },
     "metadata": {},
     "output_type": "execute_result",
     "execution_count": 4
    }
   ],
   "source": [
    "sample = basePanda.take([0,1,2,3,4,5])\n",
    "\n",
    "sample.info()\n",
    "sample.head()"
   ],
   "metadata": {
    "collapsed": false,
    "pycharm": {
     "name": "#%%\n",
     "is_executing": false
    }
   }
  },
  {
   "cell_type": "code",
   "execution_count": 5,
   "outputs": [
    {
     "name": "stdout",
     "text": [
      "<class 'pandas.core.frame.DataFrame'>\n",
      "Int64Index: 6 entries, 0 to 5\n",
      "Data columns (total 4 columns):\n",
      "Year          6 non-null int32\n",
      "Month         6 non-null int32\n",
      "DayofMonth    6 non-null int32\n",
      "DepTime       6 non-null object\n",
      "dtypes: int32(3), object(1)\n",
      "memory usage: 168.0+ bytes\n"
     ],
     "output_type": "stream"
    }
   ],
   "source": [
    "x = sample[['Year', 'Month', 'DayofMonth', 'DepTime']]\n",
    "x.info()"
   ],
   "metadata": {
    "collapsed": false,
    "pycharm": {
     "name": "#%%\n",
     "is_executing": false
    }
   }
  },
  {
   "cell_type": "code",
   "execution_count": 4,
   "outputs": [],
   "source": [
    "import numpy as np\n",
    "import pandas as pd\n",
    "from sklearn.model_selection import train_test_split\n",
    "from sklearn.preprocessing import LabelEncoder\n",
    "from pandas import notnull;\n",
    "# Split the data into training and testing sets\n",
    "lb_make = LabelEncoder()\n",
    "basePanda = basePanda[['Year', 'Month', 'DayofMonth', 'DepTime', 'Origin', 'Dest',  'IsLate']]\n",
    "basePanda = basePanda.dropna()\n",
    "basePanda['Origin_code'] = lb_make.fit_transform (basePanda['Origin'])\n",
    "basePanda['Dest_code'] = lb_make.fit_transform (basePanda['Dest'])\n",
    "#basePanda['UniqueCarrier_code'] = lb_make.fit_transform (basePanda['UniqueCarrier'])\n",
    "#basePanda['TailNum_code'] = lb_make.fit_transform (basePanda['TailNum'])\n",
    "#basePanda['ArrTime_code'] = lb_make.fit_transform (basePanda['ArrTime'])\n",
    "#basePanda['DepTime_code'] = lb_make.fit_transform (basePanda['DepTime'])\n",
    "basePanda = basePanda.drop('Origin', axis = 1) \n",
    "basePanda = basePanda.drop('Dest', axis = 1)\n",
    "#basePanda = basePanda.drop('UniqueCarrier', axis = 1) \n",
    "#basePanda = basePanda.drop('TailNum', axis = 1) \n",
    "#basePanda = basePanda.drop('CancellationCode', axis = 1)\n",
    "#basePanda = basePanda.drop('ArrTime', axis = 1)\n",
    "#basePanda = basePanda.drop('DepTime', axis = 1)\n",
    "labels = np.array(basePanda['IsLate'])\n",
    "    \n",
    "\n",
    "features = basePanda.drop('IsLate', axis = 1) \n",
    "#features = basePanda.get_dummies(features)\n",
    "features = np.array(features)\n",
    "\n",
    "\n",
    "train_features, test_features, train_labels, test_labels = train_test_split(features, labels, test_size = 0.25, random_state = 42)"
   ],
   "metadata": {
    "collapsed": false,
    "pycharm": {
     "name": "#%%\n",
     "is_executing": false
    }
   }
  },
  {
   "cell_type": "code",
   "execution_count": 11,
   "outputs": [],
   "source": [],
   "metadata": {
    "collapsed": false,
    "pycharm": {
     "name": "#%%\n",
     "is_executing": false
    }
   }
  },
  {
   "cell_type": "code",
   "execution_count": 17,
   "outputs": [],
   "source": [
    "# Import the model we are using\n",
    "from sklearn.ensemble import RandomForestRegressor\n",
    "# Instantiate model with 1000 decision trees\n",
    "rf = RandomForestRegressor(n_estimators = 8, random_state = 42)\n",
    "# Train the model on training data\n",
    "rf.fit(train_features, train_labels);"
   ],
   "metadata": {
    "collapsed": false,
    "pycharm": {
     "name": "#%%\n",
     "is_executing": false
    }
   }
  },
  {
   "cell_type": "code",
   "execution_count": 20,
   "outputs": [
    {
     "traceback": [
      "\u001b[1;36m  File \u001b[1;32m\"<ipython-input-20-fb2fd422b265>\"\u001b[1;36m, line \u001b[1;32m14\u001b[0m\n\u001b[1;33m    predictions.head()\u001b[0m\n\u001b[1;37m    ^\u001b[0m\n\u001b[1;31mIndentationError\u001b[0m\u001b[1;31m:\u001b[0m unexpected indent\n"
     ],
     "ename": "IndentationError",
     "evalue": "unexpected indent (<ipython-input-20-fb2fd422b265>, line 14)",
     "output_type": "error"
    }
   ],
   "source": [
    "from time import gmtime, strftime\n",
    " \n",
    "strftime(\"%Y-%m-%d %H:%M:%S\", gmtime())\n",
    "# Use the forest's predict method on the test data\n",
    "predictions = rf.predict(test_features)\n",
    "# Calculate the absolute errors\n",
    "errors = np.abs(predictions - test_labels)\n",
    "# Print out the mean absolute error (mae)\n",
    "print('Mean Absolute Error:', np.round(np.mean(errors), 2))\n",
    "strftime(\"%Y-%m-%d %H:%M:%S\", gmtime())\n",
    "\n",
    " #%%\n",
    " \n",
    " print(predictions)"
   ],
   "metadata": {
    "collapsed": false,
    "pycharm": {
     "name": "#%%\n",
     "is_executing": false
    }
   }
  }
 ]
}