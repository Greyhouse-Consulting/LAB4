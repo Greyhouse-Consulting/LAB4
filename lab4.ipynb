{
 "nbformat": 4,
 "nbformat_minor": 2,
 "metadata": {
  "language_info": {
   "name": "python",
   "codemirror_mode": {
    "name": "ipython",
    "version": 3
   },
   "version": "3.7.4"
  },
  "orig_nbformat": 2,
  "file_extension": ".py",
  "mimetype": "text/x-python",
  "name": "python",
  "npconvert_exporter": "python",
  "pygments_lexer": "ipython3",
  "version": 3,
  "pycharm": {
   "stem_cell": {
    "cell_type": "raw",
    "source": [],
    "metadata": {
     "collapsed": false
    }
   }
  },
  "kernelspec": {
   "name": "python3",
   "language": "python",
   "display_name": "Python 3"
  }
 },
 "cells": [
  {
   "cell_type": "code",
   "execution_count": 1,
   "metadata": {
    "pycharm": {
     "is_executing": false
    }
   },
   "outputs": [
    {
     "name": "stdout",
     "text": [
      "+----+-----+----------+---------+-------+----------+-------+----------+-------------+---------+-------+-----------------+--------------+-------+--------+--------+------+----+--------+------+-------+---------+----------------+--------+------------+------------+--------+-------------+-----------------+\n",
      "|Year|Month|DayofMonth|DayOfWeek|DepTime|CRSDepTime|ArrTime|CRSArrTime|UniqueCarrier|FlightNum|TailNum|ActualElapsedTime|CRSElapsedTime|AirTime|ArrDelay|DepDelay|Origin|Dest|Distance|TaxiIn|TaxiOut|Cancelled|CancellationCode|Diverted|CarrierDelay|WeatherDelay|NASDelay|SecurityDelay|LateAircraftDelay|\n",
      "+----+-----+----------+---------+-------+----------+-------+----------+-------------+---------+-------+-----------------+--------------+-------+--------+--------+------+----+--------+------+-------+---------+----------------+--------+------------+------------+--------+-------------+-----------------+\n",
      "|2007|    1|         1|        1|   1232|      1225|   1341|      1340|           WN|     2891|   N351|               69|            75|     54|       1|       7|   SMF| ONT|     389|     4|     11|        0|            null|       0|           0|           0|       0|            0|                0|\n",
      "|2007|    1|         1|        1|   1918|      1905|   2043|      2035|           WN|      462|   N370|               85|            90|     74|       8|      13|   SMF| PDX|     479|     5|      6|        0|            null|       0|           0|           0|       0|            0|                0|\n",
      "|2007|    1|         1|        1|   2206|      2130|   2334|      2300|           WN|     1229|   N685|               88|            90|     73|      34|      36|   SMF| PDX|     479|     6|      9|        0|            null|       0|           3|           0|       0|            0|               31|\n",
      "|2007|    1|         1|        1|   1230|      1200|   1356|      1330|           WN|     1355|   N364|               86|            90|     75|      26|      30|   SMF| PDX|     479|     3|      8|        0|            null|       0|          23|           0|       0|            0|                3|\n",
      "|2007|    1|         1|        1|    831|       830|    957|      1000|           WN|     2278|   N480|               86|            90|     74|      -3|       1|   SMF| PDX|     479|     3|      9|        0|            null|       0|           0|           0|       0|            0|                0|\n",
      "|2007|    1|         1|        1|   1430|      1420|   1553|      1550|           WN|     2386| N611SW|               83|            90|     74|       3|      10|   SMF| PDX|     479|     2|      7|        0|            null|       0|           0|           0|       0|            0|                0|\n",
      "|2007|    1|         1|        1|   1936|      1840|   2217|      2130|           WN|      409|   N482|              101|           110|     89|      47|      56|   SMF| PHX|     647|     5|      7|        0|            null|       0|          46|           0|       0|            0|                1|\n",
      "|2007|    1|         1|        1|    944|       935|   1223|      1225|           WN|     1131| N749SW|               99|           110|     86|      -2|       9|   SMF| PHX|     647|     4|      9|        0|            null|       0|           0|           0|       0|            0|                0|\n",
      "|2007|    1|         1|        1|   1537|      1450|   1819|      1735|           WN|     1212|   N451|              102|           105|     90|      44|      47|   SMF| PHX|     647|     5|      7|        0|            null|       0|          20|           0|       0|            0|               24|\n",
      "|2007|    1|         1|        1|   1318|      1315|   1603|      1610|           WN|     2456| N630WN|              105|           115|     92|      -7|       3|   SMF| PHX|     647|     5|      8|        0|            null|       0|           0|           0|       0|            0|                0|\n",
      "|2007|    1|         1|        1|    836|       835|   1119|      1130|           WN|     2575|   N493|              103|           115|     88|     -11|       1|   SMF| PHX|     647|     7|      8|        0|            null|       0|           0|           0|       0|            0|                0|\n",
      "|2007|    1|         1|        1|   2047|      1955|   2332|      2240|           WN|     2608| N733SW|              105|           105|     89|      52|      52|   SMF| PHX|     647|     7|      9|        0|            null|       0|          49|           0|       0|            0|                3|\n",
      "|2007|    1|         1|        1|   2128|      2035|   2245|      2200|           WN|      139|   N348|               77|            85|     66|      45|      53|   SMF| SAN|     480|     3|      8|        0|            null|       0|           0|           0|       3|            0|               42|\n",
      "|2007|    1|         1|        1|    935|       940|   1048|      1105|           WN|      747|   N358|               73|            85|     63|     -17|      -5|   SMF| SAN|     480|     2|      8|        0|            null|       0|           0|           0|       0|            0|                0|\n",
      "|2007|    1|         1|        1|   1251|      1245|   1405|      1410|           WN|      933|   N413|               74|            85|     65|      -5|       6|   SMF| SAN|     480|     2|      7|        0|            null|       0|           0|           0|       0|            0|                0|\n",
      "|2007|    1|         1|        1|   1729|      1645|   1843|      1810|           WN|     1054|   N416|               74|            85|     64|      33|      44|   SMF| SAN|     480|     3|      7|        0|            null|       0|           3|           0|       0|            0|               30|\n",
      "|2007|    1|         1|        1|    825|       825|    941|       950|           WN|     1106| N383SW|               76|            85|     63|      -9|       0|   SMF| SAN|     480|     3|     10|        0|            null|       0|           0|           0|       0|            0|                0|\n",
      "|2007|    1|         1|        1|   1042|      1040|   1158|      1205|           WN|     1554| N316SW|               76|            85|     66|      -7|       2|   SMF| SAN|     480|     2|      8|        0|            null|       0|           0|           0|       0|            0|                0|\n",
      "|2007|    1|         1|        1|   1726|      1725|   1839|      1850|           WN|     1604| N691WN|               73|            85|     63|     -11|       1|   SMF| SAN|     480|     3|      7|        0|            null|       0|           0|           0|       0|            0|                0|\n",
      "|2007|    1|         1|        1|   1849|      1820|   2016|      1940|           WN|     1975| N308SW|               87|            80|     69|      36|      29|   SMF| SAN|     480|     3|     15|        0|            null|       0|          20|           0|       7|            0|                9|\n",
      "+----+-----+----------+---------+-------+----------+-------+----------+-------------+---------+-------+-----------------+--------------+-------+--------+--------+------+----+--------+------+-------+---------+----------------+--------+------------+------------+--------+-------------+-----------------+\n",
      "only showing top 20 rows\n",
      "\n"
     ],
     "output_type": "stream"
    }
   ],
   "source": [
    "from pyspark.sql import SparkSession\n",
    "from pyspark.sql.functions import *\n",
    "spark = SparkSession.builder.appName(\"theappname\").getOrCreate()\n",
    "df = spark.read.csv('/Code/spark/LAB4/data/20*.csv', mode=\"DROPMALFORMED\", inferSchema=True, header = True)\n",
    "df.show()"
   ]
  },
  {
   "cell_type": "code",
   "execution_count": 148,
   "metadata": {},
   "outputs": [
    {
     "name": "stdout",
     "output_type": "stream",
     "text": "2008-01-02 12:00:00\n"
    }
   ],
   "source": [
    "@udf(returnType=TimestampType())\n",
    "def convertToDateTime( year, month, day, arrTime ): \n",
    "    print(arrTime)\n",
    "    return datetime.strptime(str(year).zfill(4)+str(month).zfill(2)+str(day).zfill(2)+' '+arrTime+\"00\", '%Y%m%d %H%M%S')\n",
    "\n",
    "\n",
    "def convertToDateTime2( year, month, day, arrTime ): \n",
    "    return datetime.strptime(str(year).zfill(4)+str(month).zfill(2)+str(day).zfill(2)+' '+arrTime+\"00\", '%Y%m%d %H%M%S')\n",
    "\n",
    "print(convertToDateTime2(2008, 1, 2, \"1200\"))"
   ]
  },
  {
   "cell_type": "code",
   "execution_count": 3,
   "metadata": {
    "pycharm": {
     "is_executing": false
    }
   },
   "outputs": [],
   "source": [
    "from pyspark.sql.functions import monotonically_increasing_id, lag, length\n",
    "\n",
    "@udf(returnType=IntegerType())\n",
    "def nbrOfPreviousLateLadning(s):\n",
    "    return s.lag(s.ArrTime, 1, 0) > 15 if 1 else 0 +  (s.lag(s.ArrTime, 2, 0) > 15 if 1 else 0)"
   ]
  },
  {
   "cell_type": "code",
   "execution_count": 52,
   "metadata": {},
   "outputs": [],
   "source": [
    "@udf(returnType=IntegerType())\n",
    "def getNumberOfLateFlightsLastHour(s, farrTime, dest):\n",
    "    return s.where((s.Year == farrTime.year) & (s.Month == farrTime.month) & (s.DayofMonth == farrTime.day) & (s.Dest == \"FLL\") & (s.ArrDelay > 15) & (s.FullArrTimeStamp < farrTime) & (s.FullArrTimeStamp > (farrTime- timedelta(hours=4))) ).count()"
   ]
  },
  {
   "cell_type": "code",
   "execution_count": 143,
   "metadata": {},
   "outputs": [
    {
     "name": "stdout",
     "output_type": "stream",
     "text": "+-------+\n|ArrTime|\n+-------+\n|   1341|\n|   2043|\n|   2334|\n|   1356|\n|   1553|\n|   2217|\n|   1223|\n|   1819|\n|   1603|\n|   1119|\n|   2332|\n|   2245|\n|   1048|\n|   1405|\n|   1843|\n|   1158|\n|   1839|\n|   2016|\n|   2332|\n|   2131|\n+-------+\nonly showing top 20 rows\n\n"
    }
   ],
   "source": [
    " df.select('ArrTime')\\\n",
    "    .filter(length(df.ArrTime) == 4 ).show()\n",
    "#    .withColumn('Arrtimelengh', length(df.ArrTime)).show()\n",
    "#.filter(length(df.ArrTime) != 2 ).distinct().sort('ArrTime').take(31)\n"
   ]
  },
  {
   "cell_type": "code",
   "execution_count": 6,
   "metadata": {
    "pycharm": {
     "is_executing": false
    }
   },
   "outputs": [],
   "source": [
    "from pyspark.sql.functions import monotonically_increasing_id, lag, length\n",
    "\n",
    "#convertToDateTime_udf  = udf(lambda year, month, day, arrTime: convertToDateTime(year, month, day, arrTime)  , TimestampType())\n",
    "from pyspark.sql.types import IntegerType\n",
    "selection = df \\\n",
    "    .where(df.CancellationCode.isNull()) \\\n",
    "    .filter(length(df.ArrTime) == 4 ) \\\n",
    "    .filter(df.Diverted == 0)\\\n",
    "    .sort(asc('Year'), 'Month', 'DayofMonth', 'ArrTime')\\\n",
    "    .withColumn(\"ArrDelay\", df.ArrDelay.cast(IntegerType()))\\\n",
    "    .withColumn(\"DepDelay\", df[\"DepDelay\"].cast(IntegerType()))\\\n",
    "    .withColumn(\"CarrierDelay\", df[\"CarrierDelay\"].cast(IntegerType()))\\\n",
    "    .withColumn(\"WeatherDelay\", df[\"WeatherDelay\"].cast(IntegerType()))\\\n",
    "    .withColumn(\"NASDelay\", df[\"NASDelay\"].cast(IntegerType()))\\\n",
    "    .withColumn(\"SecurityDelay\", df[\"SecurityDelay\"].cast(IntegerType()))\\\n",
    "    .withColumn(\"LateAircraftDelay\", df[\"LateAircraftDelay\"].cast(IntegerType()))\\\n",
    "    .fillna(0, subset=['ArrDelay', 'DepDelay', 'CarrierDelay', 'WeatherDelay', 'NASDelay', 'SecurityDelay', 'LateAircraftDelay' ])\n",
    "#    .withColumn('id', monotonically_increasing_id())\n",
    "#    .withColumn(\"FullArrTimeStamp\", convertToDateTime(df.Year, df.Month, df.DayofMonth, df.ArrTime)).collect()\n",
    "    \n",
    "#    .withColumn(\"NbrOfPreviousLateFlights\", nbrOfPreviousLateLadning(col[\"ArrTime\"]) )\n",
    "\n",
    "#selection.sort(col.FullArrTimeStamp).show()"
   ]
  },
  {
   "cell_type": "code",
   "execution_count": 109,
   "metadata": {},
   "outputs": [
    {
     "name": "stdout",
     "output_type": "stream",
     "text": "root\n |-- Year: integer (nullable = true)\n |-- Month: integer (nullable = true)\n |-- DayofMonth: integer (nullable = true)\n |-- DayOfWeek: integer (nullable = true)\n |-- DepTime: string (nullable = true)\n |-- CRSDepTime: integer (nullable = true)\n |-- ArrTime: string (nullable = true)\n |-- CRSArrTime: integer (nullable = true)\n |-- UniqueCarrier: string (nullable = true)\n |-- FlightNum: integer (nullable = true)\n |-- TailNum: string (nullable = true)\n |-- ActualElapsedTime: string (nullable = true)\n |-- CRSElapsedTime: string (nullable = true)\n |-- AirTime: string (nullable = true)\n |-- ArrDelay: integer (nullable = true)\n |-- DepDelay: integer (nullable = true)\n |-- Origin: string (nullable = true)\n |-- Dest: string (nullable = true)\n |-- Distance: integer (nullable = true)\n |-- TaxiIn: string (nullable = true)\n |-- TaxiOut: string (nullable = true)\n |-- Cancelled: integer (nullable = true)\n |-- CancellationCode: string (nullable = true)\n |-- Diverted: integer (nullable = true)\n |-- CarrierDelay: integer (nullable = true)\n |-- WeatherDelay: integer (nullable = true)\n |-- NASDelay: integer (nullable = true)\n |-- SecurityDelay: integer (nullable = true)\n |-- LateAircraftDelay: integer (nullable = true)\n |-- FullArrTimeStamp: timestamp (nullable = true)\n\n"
    }
   ],
   "source": [
    "selection.printSchema()"
   ]
  },
  {
   "cell_type": "code",
   "execution_count": 32,
   "metadata": {
    "pycharm": {
     "is_executing": false
    }
   },
   "outputs": [
    {
     "name": "stdout",
     "text": [
      "+----+-----+----------+---------+-------+----------+-------+----------+-------------+---------+-------+-----------------+--------------+-------+--------+--------+------+----+--------+------+-------+---------+----------------+--------+------------+------------+--------+-------------+-----------------+------------------------+------+\n",
      "|Year|Month|DayofMonth|DayOfWeek|DepTime|CRSDepTime|ArrTime|CRSArrTime|UniqueCarrier|FlightNum|TailNum|ActualElapsedTime|CRSElapsedTime|AirTime|ArrDelay|DepDelay|Origin|Dest|Distance|TaxiIn|TaxiOut|Cancelled|CancellationCode|Diverted|CarrierDelay|WeatherDelay|NASDelay|SecurityDelay|LateAircraftDelay|NbrOfPreviousLateFlights|IsLate|\n",
      "+----+-----+----------+---------+-------+----------+-------+----------+-------------+---------+-------+-----------------+--------------+-------+--------+--------+------+----+--------+------+-------+---------+----------------+--------+------------+------------+--------+-------------+-----------------+------------------------+------+\n",
      "|2007|    1|         1|        1|    846|       840|   1000|      1008|           XE|     3224| N12563|               74|            88|     48|      -8|       6|   EWR| BUF|     282|     5|     21|        0|            null|       0|           0|           0|       0|            0|                0|                       0|     0|\n",
      "|2007|    1|         1|        1|    829|       822|   1000|       947|           YV|     7179| N856MJ|               91|            85|     67|      13|       7|   IAD| CAE|     401|     4|     20|        0|            null|       0|           0|           0|       0|            0|                0|                       0|     0|\n",
      "|2007|    1|         1|        1|    732|       735|   1000|      1012|           YV|     2652| N909FJ|               88|            97|     69|     -12|      -3|   MEM| CLT|     512|     5|     14|        0|            null|       0|           0|           0|       0|            0|                0|                       0|     0|\n",
      "|2007|    1|         1|        1|    835|       845|   1000|      1020|           YV|     2748| N87353|              145|           155|    120|     -20|     -10|   SAT| PHX|     843|    16|      9|        0|            null|       0|           0|           0|       0|            0|                0|                       0|     0|\n",
      "|2007|    1|         1|        1|    856|       845|   1000|      1001|           UA|      846| N514UA|               64|            76|     43|      -1|      11|   IAD| LGA|     229|     5|     16|        0|            null|       0|           0|           0|       0|            0|                0|                       0|     0|\n",
      "|2007|    1|         1|        1|    836|       835|   1000|       945|           WN|      772| N709SW|               84|            70|     54|      15|       1|   RNO| LAS|     345|     6|     24|        0|            null|       0|           0|           0|      15|            0|                0|                       0|     0|\n",
      "|2007|    1|         1|        1|    853|       855|   1000|      1005|           WN|      803|   N787|               67|            70|     51|      -5|      -2|   SAN| LAS|     258|     7|      9|        0|            null|       0|           0|           0|       0|            0|                0|                       0|     0|\n",
      "|2007|    1|         1|        1|    800|       800|   1000|      1009|           EV|     4307| N975EV|              120|           129|    107|      -9|       0|   MDT| ATL|     619|     9|      4|        0|            null|       0|           0|           0|       0|            0|                0|                       0|     0|\n",
      "|2007|    1|         1|        1|    654|       655|   1000|      1000|           MQ|     3487| N651AE|              126|           125|    100|       0|      -1|   DFW| SDF|     733|     9|     17|        0|            null|       0|           0|           0|       0|            0|                0|                       0|     0|\n",
      "|2007|    1|         1|        1|    841|       834|   1000|       945|           OH|     5530| N427CA|               79|            71|     60|      15|       7|   ATL| CLT|     227|     5|     14|        0|            null|       0|           7|           0|       8|            0|                0|                       0|     0|\n",
      "|2007|    1|         1|        1|    906|       845|   1000|       950|           9E|     3792| 84779E|              114|           125|     93|      10|      21|   DTW| BHM|     625|     4|     17|        0|            null|       0|           0|           0|       0|            0|                0|                       0|     0|\n",
      "|2007|    1|         1|        1|    845|       850|   1000|      1015|           9E|     5627| 80399E|               75|            85|     49|     -15|      -5|   MLI| MSP|     274|    19|      7|        0|            null|       0|           0|           0|       0|            0|                0|                       0|     0|\n",
      "|2007|    1|         1|        1|    851|       850|   1000|       956|           AS|      148| N958AS|               69|            66|     52|       4|       1|   FAI| ANC|     261|     5|     12|        0|            null|       0|           0|           0|       0|            0|                0|                       0|     0|\n",
      "|2007|    1|         1|        1|    713|       715|   1000|       956|           CO|     1419| N19623|              167|           161|    128|       4|      -2|   TPA| EWR|     998|    15|     24|        0|            null|       0|           0|           0|       0|            0|                0|                       0|     0|\n",
      "|2007|    1|         1|        1|    749|       750|   1000|      1022|           CO|     1654| N17344|              131|           152|    113|     -22|      -1|   TPA| CLE|     927|     6|     12|        0|            null|       0|           0|           0|       0|            0|                0|                       0|     0|\n",
      "|2007|    1|         1|        1|    744|       705|   1001|       943|           XE|     2977| N13914|              137|           158|    114|      18|      39|   DSM| IAH|     802|    12|     11|        0|            null|       0|           0|          18|       0|            0|                0|                       0|     1|\n",
      "|2007|    1|         1|        1|    834|       821|   1001|       949|           OO|     4016| N806SK|               87|            88|     55|      12|      13|   SLC| DEN|     391|     9|     23|        0|            null|       0|           0|           0|       0|            0|                0|                       1|     0|\n",
      "|2007|    1|         1|        1|    852|       716|   1001|       831|           OO|     6335| N917SW|               69|            75|     51|      90|      96|   SFO| MFR|     329|     3|     15|        0|            null|       0|           0|           0|       0|            0|               90|                       1|     1|\n",
      "|2007|    1|         1|        1|    837|       842|   1001|      1002|           OO|     6441| N954SW|               84|            80|     60|      -1|      -5|   LAX| OAK|     337|     6|     18|        0|            null|       0|           0|           0|       0|            0|                0|                       2|     0|\n",
      "|2007|    1|         1|        1|     19|      2340|   1001|       836|           US|       47| N902AW|              402|           356|    382|      85|      39|   LIH| PHX|    2979|    11|      9|        0|            null|       0|          39|           0|      46|            0|                0|                       1|     1|\n",
      "+----+-----+----------+---------+-------+----------+-------+----------+-------------+---------+-------+-----------------+--------------+-------+--------+--------+------+----+--------+------+-------+---------+----------------+--------+------------+------------+--------+-------------+-----------------+------------------------+------+\n",
      "only showing top 20 rows\n",
      "\n"
     ],
     "output_type": "stream"
    }
   ],
   "source": [
    "from pyspark.sql.functions import lag\n",
    "from pyspark.sql import Window\n",
    "w = Window.orderBy(\"Year\", \"Month\", \"DayofMonth\", \"ArrTime\")\n",
    "\n",
    "sorted = selection \\\n",
    "    .withColumn(\"NbrOfPreviousLateFlights\",  (lag(selection['ArrDelay'], 1,0).over(w)  > 15 if 1 else 0).cast(IntegerType()) + (lag(selection['ArrDelay'], 2,0).over(w)  > 15 if 1 else 0).cast(IntegerType())+ (lag(selection['ArrDelay'], 3,0).over(w)  > 15 if 1 else 0).cast(IntegerType()))\\\n",
    "    .withColumn(\"IsLate\", (selection['ArrDelay'] > 15).cast(IntegerType())  )\\\n",
    "    .show()\n",
    "#    selection.withColumn(\"NbrOfPreviousLateFlifhts\", getNumberOfLateFlightsLastHour(selection, convertToDateTime(selection.Year, selection.Month, selection.DayofMonth, selection.ArrTime), selection.Dest) ).show()\n",
    "\n"
   ]
  },
  {
   "cell_type": "code",
   "execution_count": 61,
   "metadata": {},
   "outputs": [
    {
     "data": {
      "text/plain": "11"
     },
     "execution_count": 61,
     "metadata": {},
     "output_type": "execute_result"
    }
   ],
   "source": [
    "\n",
    "\n",
    "#def getNumberOfLateFlightsLastHour(s, farrTime, dest):\n",
    "\n",
    "#    return s.where((s.Year == farrTime.year) & (s.Month == farrTime.month) & (s.DayofMonth == farrTime.day) & (s.Dest == \"FLL\") & (s.ArrDelay > 15) & (s.FullArrTimeStamp < farrTime) & (s.FullArrTimeStamp > (farrTime- timedelta(hours=4))) )\n",
    "\n",
    "yyy = convertToDateTime2(2008, 1, 2, \"1200\")\n",
    "getNumberOfLateFlightsLastHour(selection, yyy, \"FLL\").count()\n",
    "    "
   ]
  },
  {
   "cell_type": "code",
   "execution_count": null,
   "metadata": {},
   "outputs": [],
   "source": [
    "selection.map()"
   ]
  },
  {
   "cell_type": "code",
   "execution_count": 110,
   "metadata": {},
   "outputs": [],
   "source": [
    "selection.createOrReplaceTempView(\"table1\")\n",
    "\n"
   ]
  },
  {
   "cell_type": "code",
   "execution_count": 113,
   "metadata": {},
   "outputs": [
    {
     "name": "stdout",
     "output_type": "stream",
     "text": "+----+-----+----------+---------+----+---------------------------------------------+\n|Year|Month|DayofMonth|FlightNum|Dest|scalarsubquery(year, month, DayofMonth, Dest)|\n+----+-----+----------+---------+----+---------------------------------------------+\n|2007|    1|         2|     5316| HTS|                                            0|\n|2007|    1|         2|     5061| HTS|                                            0|\n|2007|    1|         2|      156| SAT|                                           34|\n|2007|    1|         2|     1350| SAT|                                           34|\n|2007|    1|         2|     2472| SAT|                                           34|\n|2007|    1|         2|     2123| SAT|                                           34|\n|2007|    1|         2|     1635| SAT|                                           34|\n|2007|    1|         2|     2613| SAT|                                           34|\n|2007|    1|         2|      515| SAT|                                           34|\n|2007|    1|         2|     1475| SAT|                                           34|\n|2007|    1|         2|      184| SAT|                                           34|\n|2007|    1|         2|      138| SAT|                                           34|\n|2007|    1|         2|      663| SAT|                                           34|\n|2007|    1|         2|      961| SAT|                                           34|\n|2007|    1|         2|     6438| SAT|                                           34|\n|2007|    1|         2|     2318| SAT|                                           34|\n|2007|    1|         2|     2381| SAT|                                           34|\n|2007|    1|         2|     1886| SAT|                                           34|\n|2007|    1|         2|      153| SAT|                                           34|\n|2007|    1|         2|     4465| SAT|                                           34|\n+----+-----+----------+---------+----+---------------------------------------------+\nonly showing top 20 rows\n\n"
    }
   ],
   "source": [
    "spark.sql(\"select Year, Month, DayofMonth, FlightNum, Dest, (select count(*) from table1 where year == t.year and month == t.month and DayofMonth == t.DayofMonth and Dest == t.Dest and ArrDelay > 15 ) from table1 t\").show()"
   ]
  },
  {
   "cell_type": "code",
   "execution_count": 84,
   "metadata": {},
   "outputs": [
    {
     "data": {
      "text/html": "<div>\n<style scoped>\n    .dataframe tbody tr th:only-of-type {\n        vertical-align: middle;\n    }\n\n    .dataframe tbody tr th {\n        vertical-align: top;\n    }\n\n    .dataframe thead th {\n        text-align: right;\n    }\n</style>\n<table border=\"1\" class=\"dataframe\">\n  <thead>\n    <tr style=\"text-align: right;\">\n      <th></th>\n      <th>Year</th>\n      <th>Month</th>\n      <th>DayofMonth</th>\n      <th>DayOfWeek</th>\n      <th>DepTime</th>\n      <th>CRSDepTime</th>\n      <th>ArrTime</th>\n      <th>CRSArrTime</th>\n      <th>UniqueCarrier</th>\n      <th>FlightNum</th>\n      <th>...</th>\n      <th>TaxiOut</th>\n      <th>Cancelled</th>\n      <th>CancellationCode</th>\n      <th>Diverted</th>\n      <th>CarrierDelay</th>\n      <th>WeatherDelay</th>\n      <th>NASDelay</th>\n      <th>SecurityDelay</th>\n      <th>LateAircraftDelay</th>\n      <th>late</th>\n    </tr>\n  </thead>\n  <tbody>\n    <tr>\n      <th>0</th>\n      <td>2007</td>\n      <td>8</td>\n      <td>1</td>\n      <td>3</td>\n      <td>1611</td>\n      <td>1610</td>\n      <td>1801</td>\n      <td>1822</td>\n      <td>XE</td>\n      <td>3063</td>\n      <td>...</td>\n      <td>29</td>\n      <td>0</td>\n      <td>0</td>\n      <td>0</td>\n      <td>0</td>\n      <td>0</td>\n      <td>0</td>\n      <td>0</td>\n      <td>0</td>\n      <td>False</td>\n    </tr>\n    <tr>\n      <th>1</th>\n      <td>2008</td>\n      <td>1</td>\n      <td>3</td>\n      <td>4</td>\n      <td>859</td>\n      <td>835</td>\n      <td>1101</td>\n      <td>1048</td>\n      <td>EV</td>\n      <td>4197</td>\n      <td>...</td>\n      <td>12</td>\n      <td>0</td>\n      <td>0</td>\n      <td>0</td>\n      <td>0</td>\n      <td>0</td>\n      <td>0</td>\n      <td>0</td>\n      <td>0</td>\n      <td>False</td>\n    </tr>\n    <tr>\n      <th>2</th>\n      <td>2008</td>\n      <td>10</td>\n      <td>16</td>\n      <td>4</td>\n      <td>1645</td>\n      <td>1645</td>\n      <td>1840</td>\n      <td>1842</td>\n      <td>9E</td>\n      <td>2013</td>\n      <td>...</td>\n      <td>12</td>\n      <td>0</td>\n      <td>0</td>\n      <td>0</td>\n      <td>0</td>\n      <td>0</td>\n      <td>0</td>\n      <td>0</td>\n      <td>0</td>\n      <td>False</td>\n    </tr>\n    <tr>\n      <th>3</th>\n      <td>2008</td>\n      <td>8</td>\n      <td>20</td>\n      <td>3</td>\n      <td>1410</td>\n      <td>1410</td>\n      <td>1547</td>\n      <td>1515</td>\n      <td>AA</td>\n      <td>1282</td>\n      <td>...</td>\n      <td>16</td>\n      <td>0</td>\n      <td>0</td>\n      <td>0</td>\n      <td>0</td>\n      <td>0</td>\n      <td>32</td>\n      <td>0</td>\n      <td>0</td>\n      <td>True</td>\n    </tr>\n    <tr>\n      <th>4</th>\n      <td>2007</td>\n      <td>2</td>\n      <td>1</td>\n      <td>4</td>\n      <td>1725</td>\n      <td>1710</td>\n      <td>1945</td>\n      <td>1950</td>\n      <td>WN</td>\n      <td>1350</td>\n      <td>...</td>\n      <td>8</td>\n      <td>0</td>\n      <td>0</td>\n      <td>0</td>\n      <td>0</td>\n      <td>0</td>\n      <td>0</td>\n      <td>0</td>\n      <td>0</td>\n      <td>False</td>\n    </tr>\n  </tbody>\n</table>\n<p>5 rows × 30 columns</p>\n</div>",
      "text/plain": "   Year  Month  DayofMonth  DayOfWeek DepTime  CRSDepTime ArrTime  CRSArrTime  \\\n0  2007      8           1          3    1611        1610    1801        1822   \n1  2008      1           3          4     859         835    1101        1048   \n2  2008     10          16          4    1645        1645    1840        1842   \n3  2008      8          20          3    1410        1410    1547        1515   \n4  2007      2           1          4    1725        1710    1945        1950   \n\n  UniqueCarrier  FlightNum  ... TaxiOut Cancelled CancellationCode Diverted  \\\n0            XE       3063  ...      29         0                0        0   \n1            EV       4197  ...      12         0                0        0   \n2            9E       2013  ...      12         0                0        0   \n3            AA       1282  ...      16         0                0        0   \n4            WN       1350  ...       8         0                0        0   \n\n   CarrierDelay  WeatherDelay NASDelay SecurityDelay  LateAircraftDelay   late  \n0             0             0        0             0                  0  False  \n1             0             0        0             0                  0  False  \n2             0             0        0             0                  0  False  \n3             0             0       32             0                  0   True  \n4             0             0        0             0                  0  False  \n\n[5 rows x 30 columns]"
     },
     "execution_count": 84,
     "metadata": {},
     "output_type": "execute_result"
    }
   ],
   "source": [
    "import pandas as pd \n",
    "\n",
    "selection.fillna(0, inplace=True)\n",
    "selection[\"late\"] = selection[\"ArrDelay\"] > 15\n",
    "selection.head()"
   ]
  },
  {
   "cell_type": "code",
   "execution_count": 42,
   "metadata": {},
   "outputs": [],
   "source": [
    "    "
   ]
  },
  {
   "cell_type": "code",
   "execution_count": 89,
   "metadata": {},
   "outputs": [
    {
     "data": {
      "text/plain": "Year                 0.22278\nMonth                0.22278\nDayofMonth           0.22278\nDayOfWeek            0.22278\nDepTime              0.22278\nCRSDepTime           0.22278\nArrTime              0.22278\nCRSArrTime           0.22278\nUniqueCarrier        0.22278\nFlightNum            0.22278\nTailNum              0.22278\nActualElapsedTime    0.22278\nCRSElapsedTime       0.22278\nAirTime              0.22278\nArrDelay             0.22278\nDepDelay             0.22278\nOrigin               0.22278\nDest                 0.22278\nDistance             0.22278\nTaxiIn               0.22278\nTaxiOut              0.22278\nCancelled            0.22278\nCancellationCode     0.22278\nDiverted             0.22278\nCarrierDelay         0.22278\nWeatherDelay         0.22278\nNASDelay             0.22278\nSecurityDelay        0.22278\nLateAircraftDelay    0.22278\nlate                 0.22278\ndtype: float64"
     },
     "execution_count": 89,
     "metadata": {},
     "output_type": "execute_result"
    }
   ],
   "source": [
    "import numpy as np\n",
    "\n",
    "selection.where(selection[\"late\"] == True).dropna().count() / selection.count()\n"
   ]
  }
 ]
}